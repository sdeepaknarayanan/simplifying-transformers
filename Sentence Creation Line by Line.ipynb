{
 "cells": [
  {
   "cell_type": "markdown",
   "metadata": {},
   "source": [
    "- One Sentence per entry\n",
    "- Only Sentences with more than 10 tokens\n",
    "- No End Lines (\\n)\n",
    "- No Titles\n",
    "- No Foreign Characters (Look at it later)\n",
    "- Frequency of Occurrence of a Character - How many occurrences do we set the threshold at?\n"
   ]
  },
  {
   "cell_type": "code",
   "execution_count": 1,
   "metadata": {},
   "outputs": [],
   "source": [
    "import numpy as np\n",
    "import prenlp\n",
    "from nltk.tokenize import sent_tokenize, word_tokenize"
   ]
  },
  {
   "cell_type": "code",
   "execution_count": 2,
   "metadata": {},
   "outputs": [],
   "source": [
    "wikitext2 = prenlp.data.WikiText2()"
   ]
  },
  {
   "cell_type": "code",
   "execution_count": 3,
   "metadata": {},
   "outputs": [],
   "source": [
    "train, valid, test = prenlp.data.WikiText2()"
   ]
  },
  {
   "cell_type": "code",
   "execution_count": 4,
   "metadata": {},
   "outputs": [],
   "source": [
    "train_content_5 = []\n",
    "for elem in train:    \n",
    "    for sent in sent_tokenize(elem):\n",
    "        if \"=\" in sent:\n",
    "            continue\n",
    "        if len(sent) <= 3:\n",
    "            continue\n",
    "        train_content_5.append(sent)"
   ]
  },
  {
   "cell_type": "code",
   "execution_count": 5,
   "metadata": {},
   "outputs": [],
   "source": [
    "train_f = open(\"dataset/train_data_single_sentence.txt\", \"w\")\n",
    "for elem in train_content_5:\n",
    "    train_f.write(elem + \"\\n\")\n",
    "train_f.close()"
   ]
  },
  {
   "cell_type": "code",
   "execution_count": 6,
   "metadata": {},
   "outputs": [],
   "source": [
    "valid_content = []\n",
    "for elem in valid:    \n",
    "    for sent in sent_tokenize(elem):\n",
    "        if \"=\" in sent:\n",
    "            continue\n",
    "        if len(sent) <= 3:\n",
    "            continue\n",
    "        valid_content.append(sent)"
   ]
  },
  {
   "cell_type": "code",
   "execution_count": 7,
   "metadata": {},
   "outputs": [],
   "source": [
    "valid_f = open(\"dataset/valid_data_single_sentence.txt\", \"w\")\n",
    "for elem in valid_content:\n",
    "    valid_f.write(elem + \"\\n\")\n",
    "valid_f.close()"
   ]
  },
  {
   "cell_type": "code",
   "execution_count": 8,
   "metadata": {},
   "outputs": [],
   "source": [
    "test_content = []\n",
    "for elem in test:    \n",
    "    for sent in sent_tokenize(elem):\n",
    "        if \"=\" in sent:\n",
    "            continue\n",
    "        if len(sent) <= 3:\n",
    "            continue\n",
    "        test_content.append(sent)"
   ]
  },
  {
   "cell_type": "code",
   "execution_count": 9,
   "metadata": {},
   "outputs": [],
   "source": [
    "test_f = open(\"dataset/test_data_single_sentence.txt\", \"w\")\n",
    "for elem in test_content:\n",
    "    test_f.write(elem + \"\\n\")\n",
    "test_f.close()"
   ]
  },
  {
   "cell_type": "code",
   "execution_count": 10,
   "metadata": {},
   "outputs": [],
   "source": [
    "all_together = train_content_5 + valid_content + test_content\n",
    "all_f = open(\"dataset/all.txt\", \"w\")\n",
    "for elem in all_together:\n",
    "    all_f.write(elem + \"\\n\")\n",
    "all_f.close()"
   ]
  }
 ],
 "metadata": {
  "kernelspec": {
   "display_name": "Python 3 (ipykernel)",
   "language": "python",
   "name": "python3"
  },
  "language_info": {
   "codemirror_mode": {
    "name": "ipython",
    "version": 3
   },
   "file_extension": ".py",
   "mimetype": "text/x-python",
   "name": "python",
   "nbconvert_exporter": "python",
   "pygments_lexer": "ipython3",
   "version": "3.8.0"
  }
 },
 "nbformat": 4,
 "nbformat_minor": 2
}
