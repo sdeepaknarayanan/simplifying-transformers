{
 "cells": [
  {
   "cell_type": "code",
   "execution_count": 20,
   "metadata": {
    "collapsed": true
   },
   "outputs": [
    {
     "data": {
      "text/plain": "Downloading:   0%|          | 0.00/571 [00:00<?, ?B/s]",
      "application/vnd.jupyter.widget-view+json": {
       "version_major": 2,
       "version_minor": 0,
       "model_id": "c4ee00506ca540caa50d4d3127879d3b"
      }
     },
     "metadata": {},
     "output_type": "display_data"
    },
    {
     "data": {
      "text/plain": "Downloading:   0%|          | 0.00/1.34G [00:00<?, ?B/s]",
      "application/vnd.jupyter.widget-view+json": {
       "version_major": 2,
       "version_minor": 0,
       "model_id": "e0eb9d62337e47a0826eceb75e380b03"
      }
     },
     "metadata": {},
     "output_type": "display_data"
    },
    {
     "name": "stderr",
     "output_type": "stream",
     "text": [
      "Some weights of the model checkpoint at bert-large-uncased were not used when initializing BertForMaskedLM: ['cls.seq_relationship.weight', 'cls.seq_relationship.bias']\n",
      "- This IS expected if you are initializing BertForMaskedLM from the checkpoint of a model trained on another task or with another architecture (e.g. initializing a BertForSequenceClassification model from a BertForPreTraining model).\n",
      "- This IS NOT expected if you are initializing BertForMaskedLM from the checkpoint of a model that you expect to be exactly identical (initializing a BertForSequenceClassification model from a BertForSequenceClassification model).\n"
     ]
    },
    {
     "data": {
      "text/plain": "Downloading:   0%|          | 0.00/232k [00:00<?, ?B/s]",
      "application/vnd.jupyter.widget-view+json": {
       "version_major": 2,
       "version_minor": 0,
       "model_id": "c42509e2c7aa49e7910b1381fa145c6a"
      }
     },
     "metadata": {},
     "output_type": "display_data"
    },
    {
     "data": {
      "text/plain": "Downloading:   0%|          | 0.00/28.0 [00:00<?, ?B/s]",
      "application/vnd.jupyter.widget-view+json": {
       "version_major": 2,
       "version_minor": 0,
       "model_id": "5d892bb53ac6438ba3c3dd39b189c79c"
      }
     },
     "metadata": {},
     "output_type": "display_data"
    },
    {
     "name": "stdout",
     "output_type": "stream",
     "text": [
      "['[CLS]', 'I', 'flew', 'to', '[MASK]', 'which', 'is', 'the', 'capital', 'of', 'germany', '[SEP]']\n",
      "tensor([[ 101,  101,  100, 5520, 2000,  103, 2029, 2003, 1996, 3007, 1997, 2762,\n",
      "          102,  102]])\n",
      "torch.Size([1, 14, 30522])\n",
      "berlin: 0.6312\n",
      "frankfurt: 0.0643\n",
      "munich: 0.0583\n",
      "stuttgart: 0.0492\n",
      "bonn: 0.0465\n",
      "cologne: 0.0305\n",
      "dusseldorf: 0.0132\n",
      "hamburg: 0.0111\n",
      "leipzig: 0.0064\n",
      "nuremberg: 0.0063\n",
      "prague: 0.0057\n",
      "hanover: 0.0048\n",
      "dresden: 0.0046\n",
      "halle: 0.0045\n",
      "vienna: 0.0041\n",
      "aachen: 0.0041\n",
      "potsdam: 0.0038\n",
      "wrocław: 0.0031\n",
      "heidelberg: 0.0026\n",
      "warsaw: 0.0023\n"
     ]
    }
   ],
   "source": [
    "import torch\n",
    "from transformers import BertTokenizer, BertForMaskedLM\n",
    "\n",
    "# Initialize the BERT model and tokenizer\n",
    "model = BertForMaskedLM.from_pretrained('bert-large-uncased')\n",
    "model.eval()\n",
    "tokenizer = BertTokenizer.from_pretrained('bert-large-uncased')\n",
    "\n",
    "# Tokenize the input text and mask the first word\n",
    "tokens = [\"[CLS]\", \"I\", \"flew\", \"to\", \"[MASK]\", \"which\", \"is\", \"the\", \"capital\", \"of\", \"germany\", \"[SEP]\"]\n",
    "mask_idx = 5\n",
    "print(tokens)\n",
    "input_ids = torch.tensor(tokenizer.encode(tokens)).unsqueeze(0)\n",
    "\n",
    "# Get the top 10 most likely words\n",
    "with torch.no_grad():\n",
    "    print(input_ids)\n",
    "    out = model(input_ids)\n",
    "    print(out['logits'].size())\n",
    "    logits = out['logits'][0][mask_idx]\n",
    "    probs = torch.nn.functional.softmax(logits, dim=-1)\n",
    "    top_probs, top_indices = torch.topk(probs, k=20)\n",
    "    top_probs = top_probs.tolist()\n",
    "    top_words = [tokenizer.convert_ids_to_tokens([i])[0] for i in top_indices]\n",
    "\n",
    "# Print the results\n",
    "for word, prob in zip(top_words, top_probs):\n",
    "    print(f\"{word}: {prob:.4f}\")\n"
   ]
  },
  {
   "cell_type": "code",
   "execution_count": null,
   "outputs": [],
   "source": [],
   "metadata": {
    "collapsed": false
   }
  }
 ],
 "metadata": {
  "kernelspec": {
   "display_name": "Python 3",
   "language": "python",
   "name": "python3"
  },
  "language_info": {
   "codemirror_mode": {
    "name": "ipython",
    "version": 2
   },
   "file_extension": ".py",
   "mimetype": "text/x-python",
   "name": "python",
   "nbconvert_exporter": "python",
   "pygments_lexer": "ipython2",
   "version": "2.7.6"
  }
 },
 "nbformat": 4,
 "nbformat_minor": 0
}
